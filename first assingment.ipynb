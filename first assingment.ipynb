{
 "cells": [
  {
   "cell_type": "code",
   "execution_count": 3,
   "id": "dbaad69c-81e9-47c7-9876-7c300e0c77cd",
   "metadata": {},
   "outputs": [
    {
     "name": "stdout",
     "output_type": "stream",
     "text": [
      "sllikswp\n"
     ]
    }
   ],
   "source": [
    "# 1.Write a code to reverse a string.\n",
    "\n",
    "s = \"pwskills\"\n",
    "rev = s[::-1]\n",
    "print (rev)"
   ]
  },
  {
   "cell_type": "code",
   "execution_count": 10,
   "id": "c9841371-cb78-4db7-ab0f-514a6c9af0e5",
   "metadata": {},
   "outputs": [
    {
     "data": {
      "text/plain": [
       "5"
      ]
     },
     "execution_count": 10,
     "metadata": {},
     "output_type": "execute_result"
    }
   ],
   "source": [
    "# 2.Write a code to count the number of vowels in a string.\n",
    "\n",
    "string = \"aeiou\"\n",
    "len(string)"
   ]
  },
  {
   "cell_type": "code",
   "execution_count": 11,
   "id": "52e1b349-5db4-4176-8c32-c9290eb9b2d0",
   "metadata": {},
   "outputs": [],
   "source": [
    "# 3.Write a code to check if a given string is a palindrome or not.\n"
   ]
  },
  {
   "cell_type": "code",
   "execution_count": 13,
   "id": "3125cf00-8e15-424e-8c35-45d0366f8ea4",
   "metadata": {},
   "outputs": [
    {
     "name": "stdout",
     "output_type": "stream",
     "text": [
      "The strings are anagrams.\n"
     ]
    }
   ],
   "source": [
    "# 4.Write a code to check if two given strings are anagrams of each other.\n",
    "def check(s1, s2):\n",
    "    \n",
    "    if(sorted(s1)== sorted(s2)):\n",
    "        print(\"The strings are anagrams.\") \n",
    "    else:\n",
    "        print(\"The strings aren't anagrams.\")     \n",
    "s1 =\"listen\"\n",
    "s2 =\"silent\" \n",
    "check(s1, s2)"
   ]
  },
  {
   "cell_type": "code",
   "execution_count": 26,
   "id": "c9d5415a-abdd-4017-89ad-1f031644e7a0",
   "metadata": {},
   "outputs": [
    {
     "data": {
      "text/plain": [
       "' analytics'"
      ]
     },
     "execution_count": 26,
     "metadata": {},
     "output_type": "execute_result"
    }
   ],
   "source": [
    "# 5.Write a code to find all occurrences of a given substring within another string.\n",
    "\n",
    "s1 = \"data analytics is best\"\n",
    "s1[4:14]"
   ]
  },
  {
   "cell_type": "code",
   "execution_count": 6,
   "id": "45d96e42-c760-4f14-a77a-46dd22e0ee0e",
   "metadata": {},
   "outputs": [
    {
     "name": "stdin",
     "output_type": "stream",
     "text": [
      "string ffgg\n"
     ]
    },
    {
     "name": "stdout",
     "output_type": "stream",
     "text": [
      "0y\n",
      "0y1a\n",
      "0y1a1a\n",
      "0y1a1a1b\n",
      "0y1a1a1b1b\n",
      "0y1a1a1b1b1c\n",
      "0y1a1a1b1b1c1c\n",
      "0y1a1a1b1b1c1c1i\n",
      "0y1a1a1b1b1c1c1i1i\n",
      "0y1a1a1b1b1c1c1i1i1d\n",
      "0y1a1a1b1b1c1c1i1i1d1d\n",
      "0y1a1a1b1b1c1c1i1i1d1d1r\n",
      "0y1a1a1b1b1c1c1i1i1d1d1r\n",
      "0y1a1a1b1b1c1c1i1i1d1d1r\n",
      "0y1a1a1b1b1c1c1i1i1d1d1r1r\n",
      "0y1a1a1b1b1c1c1i1i1d1d1r1r1g\n",
      "0y1a1a1b1b1c1c1i1i1d1d1r1r1g1e\n",
      "0y1a1a1b1b1c1c1i1i1d1d1r1r1g1e1j\n",
      "0y1a1a1b1b1c1c1i1i1d1d1r1r1g1e1j1s\n",
      "0y1a1a1b1b1c1c1i1i1d1d1r1r1g1e1j1s1y\n"
     ]
    }
   ],
   "source": [
    "# 6.Write a code to perform basic string compression using the counts of repeated charactes\n",
    "\n",
    "strval = input(\"string\")\n",
    "ch = strval[0]\n",
    "result= \"\"\n",
    "count= 0\n",
    "strval = strval+\"\"\n",
    "\n",
    "for i in name:\n",
    "    if i==ch:\n",
    "        count=+1\n",
    "    else:\n",
    "        result = result+ str(count)+ str(char)\n",
    "        char = i\n",
    "        count = 1\n",
    "    print(result)\n"
   ]
  },
  {
   "cell_type": "code",
   "execution_count": 16,
   "id": "01db54e8-b245-4841-ae41-51151722063c",
   "metadata": {},
   "outputs": [
    {
     "ename": "SyntaxError",
     "evalue": "invalid syntax (2650331409.py, line 4)",
     "output_type": "error",
     "traceback": [
      "\u001b[1;36m  Cell \u001b[1;32mIn[16], line 4\u001b[1;36m\u001b[0m\n\u001b[1;33m    unique character = []\u001b[0m\n\u001b[1;37m           ^\u001b[0m\n\u001b[1;31mSyntaxError\u001b[0m\u001b[1;31m:\u001b[0m invalid syntax\n"
     ]
    }
   ],
   "source": [
    "# 7.Write a code to determine if a string has all unique characters.\n",
    "def check_unique(string):\n",
    "    \n",
    "   unique character = []\n",
    "    \n",
    "    for character in string:\n",
    "        if character in unique character:\n",
    "            return False\n",
    "        else:\n",
    "            unique character.append(character)\n",
    "            return True\n",
    "            test =\"abccgd\"\n",
    "        print(unique character(test))"
   ]
  },
  {
   "cell_type": "code",
   "execution_count": 20,
   "id": "21a33cf3-ca94-4905-b032-2ff02f54b3cf",
   "metadata": {},
   "outputs": [],
   "source": [
    "# 8.Write a code to convert a given string to uppercase or lowercase.\n",
    "\n",
    "text = \"DATA ANALYTICS\"\n",
    " "
   ]
  },
  {
   "cell_type": "code",
   "execution_count": 21,
   "id": "98d56ffd-ddce-4f77-a23d-dec9f6db97cc",
   "metadata": {},
   "outputs": [
    {
     "data": {
      "text/plain": [
       "'DATA ANALYTICS'"
      ]
     },
     "execution_count": 21,
     "metadata": {},
     "output_type": "execute_result"
    }
   ],
   "source": [
    "text"
   ]
  },
  {
   "cell_type": "code",
   "execution_count": 23,
   "id": "15452fa1-ed84-4b4e-99eb-21d5284e8552",
   "metadata": {},
   "outputs": [
    {
     "data": {
      "text/plain": [
       "'data analytics'"
      ]
     },
     "execution_count": 23,
     "metadata": {},
     "output_type": "execute_result"
    }
   ],
   "source": [
    "text.lower()"
   ]
  },
  {
   "cell_type": "code",
   "execution_count": 24,
   "id": "edf1e943-58bf-4896-ad93-ed83cb48f6a0",
   "metadata": {},
   "outputs": [],
   "source": [
    "text = \"data analytics\""
   ]
  },
  {
   "cell_type": "code",
   "execution_count": 25,
   "id": "81a80ac1-a3a5-4a49-9ea8-44fdc1c22005",
   "metadata": {},
   "outputs": [
    {
     "data": {
      "text/plain": [
       "'data analytics'"
      ]
     },
     "execution_count": 25,
     "metadata": {},
     "output_type": "execute_result"
    }
   ],
   "source": [
    "text"
   ]
  },
  {
   "cell_type": "code",
   "execution_count": 26,
   "id": "d2191109-faef-422c-8ab1-d05403132265",
   "metadata": {},
   "outputs": [
    {
     "data": {
      "text/plain": [
       "'DATA ANALYTICS'"
      ]
     },
     "execution_count": 26,
     "metadata": {},
     "output_type": "execute_result"
    }
   ],
   "source": [
    "text.upper()"
   ]
  },
  {
   "cell_type": "code",
   "execution_count": 29,
   "id": "f14b8c41-9961-426b-b893-51eaaa2156e2",
   "metadata": {},
   "outputs": [],
   "source": [
    "# 9.Write a code to count the number of words in a string.\n",
    "\n",
    "language = (\"java\",\"python\",\"c++\", \"english\")"
   ]
  },
  {
   "cell_type": "code",
   "execution_count": 30,
   "id": "a253212e-d35b-4ce7-b84d-fb05959e140f",
   "metadata": {},
   "outputs": [
    {
     "data": {
      "text/plain": [
       "4"
      ]
     },
     "execution_count": 30,
     "metadata": {},
     "output_type": "execute_result"
    }
   ],
   "source": [
    "len(language)"
   ]
  },
  {
   "cell_type": "code",
   "execution_count": 38,
   "id": "d1282fdb-2de4-4fb3-9bac-7980d6c7a662",
   "metadata": {},
   "outputs": [],
   "source": [
    "# 10.Write a code to concatenate two strings without using the + operator.\n",
    "\n",
    "string1 = \"data\"\n",
    "string2 = \"structure\"\n"
   ]
  },
  {
   "cell_type": "code",
   "execution_count": 41,
   "id": "ba5efd51-f4be-429d-906f-f5aa41b31001",
   "metadata": {},
   "outputs": [
    {
     "data": {
      "text/plain": [
       "'datastructure'"
      ]
     },
     "execution_count": 41,
     "metadata": {},
     "output_type": "execute_result"
    }
   ],
   "source": [
    "string1 + string2"
   ]
  },
  {
   "cell_type": "code",
   "execution_count": 49,
   "id": "10176cfd-1810-4150-87fb-1091720aa4c1",
   "metadata": {},
   "outputs": [
    {
     "name": "stdout",
     "output_type": "stream",
     "text": [
      "[22, 33, 54, 86, 20, 10]\n",
      "[22, 33, 54, 86, 20]\n"
     ]
    }
   ],
   "source": [
    "# 11.Write a code to remove all occurrences of a specific element from a list.\n",
    "\n",
    "sample_list= [10,22,33,54,86,20,10,]\n",
    "\n",
    "value = 10\n",
    "\n",
    "while value in sample_list:\n",
    "    sample_list.remove(value)\n",
    "    print(sample_list)\n",
    "   "
   ]
  },
  {
   "cell_type": "code",
   "execution_count": 51,
   "id": "71d4cb59-f915-4f38-b503-a6f44e150b6a",
   "metadata": {},
   "outputs": [
    {
     "name": "stdout",
     "output_type": "stream",
     "text": [
      "45\n"
     ]
    }
   ],
   "source": [
    "# 12.Implement a code to find the second largest number in a given list of integers.\n",
    "\n",
    "a = [10, 20, 4, 45, 99]\n",
    "\n",
    "a.sort(reverse=True)\n",
    "\n",
    "print(a[1])\n"
   ]
  },
  {
   "cell_type": "code",
   "execution_count": 53,
   "id": "8eee3361-acec-4f22-929c-02df74081f4a",
   "metadata": {},
   "outputs": [
    {
     "name": "stdout",
     "output_type": "stream",
     "text": [
      "{'apple': 2, 'banana': 3, 'orange': 1}\n"
     ]
    }
   ],
   "source": [
    "# 13.Create a code to count the occurrences of each element in a list and return a dictionary with elements as\n",
    "#keys and their counts as values\n",
    "\n",
    "a = ['apple', 'banana', 'apple', 'orange', 'banana', 'banana']\n",
    "\n",
    "b = {}\n",
    "\n",
    "for c in a:\n",
    "    if c in b:\n",
    "        b[c] += 1\n",
    "    else:\n",
    "        b[c] = 1\n",
    "print(b)"
   ]
  },
  {
   "cell_type": "code",
   "execution_count": 54,
   "id": "c4c231bd-2006-4a38-a45c-dd5bb8079890",
   "metadata": {},
   "outputs": [
    {
     "name": "stdout",
     "output_type": "stream",
     "text": [
      "[5, 4, 3, 2, 1]\n"
     ]
    }
   ],
   "source": [
    "# 14.Write a code to reverse a list in-place without using any built-in reverse functions.\n",
    "\n",
    "a = [1, 2, 3, 4, 5]\n",
    "\n",
    "start = 0\n",
    "end = len(a) - 1\n",
    "\n",
    "while start < end:\n",
    "    a[start], a[end] = a[end], a[start]  \n",
    "    start += 1 \n",
    "    end -= 1  \n",
    "print(a)"
   ]
  },
  {
   "cell_type": "code",
   "execution_count": 55,
   "id": "963b6fd5-4d71-437d-a803-b86cb09c919a",
   "metadata": {},
   "outputs": [
    {
     "name": "stdout",
     "output_type": "stream",
     "text": [
      "[1, 2, 3, 4, 5]\n"
     ]
    }
   ],
   "source": [
    "# 15.Implement a code to find and remove duplicates from a list while preserving the original order of\n",
    "#element\n",
    "\n",
    "a = [1, 2, 2, 3, 4, 4, 5]\n",
    "\n",
    "b = list(dict.fromkeys(a))\n",
    "print(b)"
   ]
  },
  {
   "cell_type": "code",
   "execution_count": 56,
   "id": "309e4c89-8258-4add-b5ff-61856c16ed7a",
   "metadata": {},
   "outputs": [
    {
     "name": "stdout",
     "output_type": "stream",
     "text": [
      "True\n",
      "True\n"
     ]
    }
   ],
   "source": [
    "# 16.Create a code to check if a given list is sorted (either in ascending or descending order) or not\n",
    "\n",
    "a = [1, 2, 3, 4, 5]\n",
    "\n",
    "print(all(a[i] <= a[i + 1] for i in range(len(a) - 1)))\n",
    "\n",
    "b = [5, 4, 3, 2, 1]\n",
    "\n",
    "print(all(b[i] >= b[i + 1] for i in range(len(b) - 1)))"
   ]
  },
  {
   "cell_type": "code",
   "execution_count": 57,
   "id": "24113af9-30f3-4751-b39c-3c0eb68459a9",
   "metadata": {},
   "outputs": [
    {
     "name": "stdout",
     "output_type": "stream",
     "text": [
      "The combined sorted list is : [1, 3, 4, 5, 6, 7, 8, 9, 10, 11]\n"
     ]
    }
   ],
   "source": [
    "# 17. Write a code to merge two sorted lists into a single sorted list\n",
    "\n",
    "test_list1 = [1, 5, 6, 9, 11]\n",
    "test_list2 = [3, 4, 7, 8, 10]\n",
    "\n",
    "res = sorted(test_list1 + test_list2)\n",
    "print (\"The combined sorted list is : \" + str(res))"
   ]
  },
  {
   "cell_type": "code",
   "execution_count": 58,
   "id": "62f60536-6d24-4e3a-9b07-6cc81dd668f7",
   "metadata": {},
   "outputs": [
    {
     "name": "stdout",
     "output_type": "stream",
     "text": [
      "[9, 11, 26, 28]\n"
     ]
    }
   ],
   "source": [
    "# 18. Implement a code to find the intersection of two given lists.\n",
    "\n",
    "def intersection(lst1, lst2):\n",
    "    lst3 = [value for value in lst1 if value in lst2]\n",
    "    return lst3\n",
    "\n",
    "lst1 = [4, 9, 1, 17, 11, 26, 28, 54, 69]\n",
    "lst2 = [9, 9, 74, 21, 45, 11, 63, 28, 26]\n",
    "print(intersection(lst1, lst2))"
   ]
  },
  {
   "cell_type": "code",
   "execution_count": 59,
   "id": "802e7586-9908-442a-ab45-63bb6e51bc36",
   "metadata": {},
   "outputs": [
    {
     "name": "stdout",
     "output_type": "stream",
     "text": [
      "Union lists: [1, 2, 3, 4, 5, 6]\n"
     ]
    }
   ],
   "source": [
    "# 19. Create a code to find the union of two lists without duplicates\n",
    "\n",
    "a = [1, 2, 3, 4]\n",
    "b = [3, 4, 5, 6]\n",
    "\n",
    "union_list = list(set(a).union(b))\n",
    "\n",
    "print(\"Union lists:\", union_list)"
   ]
  },
  {
   "cell_type": "code",
   "execution_count": 60,
   "id": "e4e91835-0e6c-44f4-8f4e-ac67589da3bc",
   "metadata": {},
   "outputs": [],
   "source": [
    "# 20.Write a code to shuffle a given list randomly without using any built-in shuffle functions"
   ]
  },
  {
   "cell_type": "code",
   "execution_count": 66,
   "id": "c349b4ce-9c5b-48b1-b861-581af7e04f6d",
   "metadata": {},
   "outputs": [
    {
     "name": "stdin",
     "output_type": "stream",
     "text": [
      "enter first tuple : 1,2,3,6\n",
      "enter second tuple : 1,2,3,6\n"
     ]
    },
    {
     "name": "stdout",
     "output_type": "stream",
     "text": [
      "1\n",
      ",\n",
      "2\n",
      ",\n",
      "3\n",
      ",\n",
      "6\n",
      "1\n",
      ",\n",
      "2\n",
      ",\n",
      "3\n",
      ",\n",
      "6\n"
     ]
    }
   ],
   "source": [
    "# 21. Write a code that takes two tuples as input and returns a new tuple containing elements that are\n",
    "#common to both input tuples\n",
    "\n",
    "tup1 = input(\"enter first tuple :\")\n",
    "tup2 = input(\"enter second tuple :\")\n",
    "new_tuple = (tup1 + tup2)\n",
    "for i in new_tuple:\n",
    "    if tup1 == tup2:\n",
    "        print(i)"
   ]
  },
  {
   "cell_type": "code",
   "execution_count": 75,
   "id": "926da25e-bf13-4390-8de0-f059334c633d",
   "metadata": {},
   "outputs": [
    {
     "data": {
      "text/plain": [
       "{2, 4}"
      ]
     },
     "execution_count": 75,
     "metadata": {},
     "output_type": "execute_result"
    }
   ],
   "source": [
    "# 22.Create a code that prompts the user to enter two sets of integers separated by commas. Then, print the\n",
    "#intersection of these two sets\n",
    "\n",
    "s1 = {1,2,4,8}\n",
    "s2 = {2,3,4,9}\n",
    "s1 & s2"
   ]
  },
  {
   "cell_type": "code",
   "execution_count": 1,
   "id": "583e1dc8-ea95-4d3c-96b1-c5943e58da0e",
   "metadata": {},
   "outputs": [
    {
     "data": {
      "text/plain": [
       "(1, 2, 3, 4, 5, 6, 7, 8)"
      ]
     },
     "execution_count": 1,
     "metadata": {},
     "output_type": "execute_result"
    }
   ],
   "source": [
    "# 23.Write a code to concatenate two tuples. The function should take two tuples as input and return a new\n",
    "#tuple containing elements from both input tuples\n",
    "\n",
    "t1 = (1, 2, 3, 4)\n",
    "t2 = (5, 6, 7, 8)\n",
    "t1 + t2"
   ]
  },
  {
   "cell_type": "code",
   "execution_count": 5,
   "id": "9ede7cf3-d7d8-4918-9d5c-9de83a1dc4d3",
   "metadata": {},
   "outputs": [
    {
     "name": "stdin",
     "output_type": "stream",
     "text": [
      "string l1:  \"sanjay\",\"vijay\",1,2,3\n",
      "string l2:  \"bijay\",\"ajay\",5,8,9\n"
     ]
    },
    {
     "name": "stdout",
     "output_type": "stream",
     "text": [
      "{'\"sanjay\",\"vijay\",1,2,3'}\n"
     ]
    }
   ],
   "source": [
    "#24. Develop a code that prompts the user to input two sets of strings. Then, print the elements that are\n",
    "#present in the first set but not in the second set\n",
    "\n",
    "set1 = {input(\"string l1: \")}\n",
    "set2 = {input(\"string l2: \")}\n",
    "if set1 == set2:\n",
    "    print(set1 + set2)\n",
    "else:\n",
    "    print(set1)\n"
   ]
  },
  {
   "cell_type": "code",
   "execution_count": 10,
   "id": "4dd5266c-3094-4b84-a530-db6e55b8afd2",
   "metadata": {},
   "outputs": [
    {
     "ename": "NameError",
     "evalue": "name 'slice_tuple' is not defined",
     "output_type": "error",
     "traceback": [
      "\u001b[1;31m---------------------------------------------------------------------------\u001b[0m",
      "\u001b[1;31mNameError\u001b[0m                                 Traceback (most recent call last)",
      "Cell \u001b[1;32mIn[10], line 8\u001b[0m\n\u001b[0;32m      5\u001b[0m start_index \u001b[38;5;241m=\u001b[39m \u001b[38;5;241m2\u001b[39m\n\u001b[0;32m      6\u001b[0m end_index \u001b[38;5;241m=\u001b[39m \u001b[38;5;241m5\u001b[39m\n\u001b[1;32m----> 8\u001b[0m new_tuple \u001b[38;5;241m=\u001b[39m slice_tuple(original_tuple, start_index, end_index)\n\u001b[0;32m      9\u001b[0m \u001b[38;5;28mprint\u001b[39m(new_tuple)\n",
      "\u001b[1;31mNameError\u001b[0m: name 'slice_tuple' is not defined"
     ]
    }
   ],
   "source": [
    "#25.Create a code that takes a tuple and two integers as input. The function should return a new tuple\n",
    "#containing elements from the original tuple within the specified range of indices\n",
    "\n",
    "original_tuple = (10, 20, 30, 40, 50, 60)\n",
    "start_index = 2\n",
    "end_index = 5\n",
    "\n",
    "new_tuple = slice_tuple(original_tuple, start_index, end_index)\n",
    "print(new_tuple)"
   ]
  },
  {
   "cell_type": "code",
   "execution_count": 32,
   "id": "82aa4af3-1785-4446-9f74-02562a49a270",
   "metadata": {},
   "outputs": [
    {
     "name": "stdin",
     "output_type": "stream",
     "text": [
      " 1, 2, 3\n",
      " 4, 5, 6\n"
     ]
    },
    {
     "name": "stdout",
     "output_type": "stream",
     "text": [
      "{'4, 5, 6', '1, 2, 3'}\n"
     ]
    }
   ],
   "source": [
    "#26.Write a code that prompts the user to input two sets of characters. Then, print the union of these two sets\n",
    "\n",
    "set1 = {input()}\n",
    "set2 = {input()}\n",
    "union = set1.union(set2)\n",
    "print(union)\n",
    "\n",
    "\n"
   ]
  },
  {
   "cell_type": "code",
   "execution_count": 37,
   "id": "bba25de8-96eb-4fb2-8058-382ddc307fbe",
   "metadata": {},
   "outputs": [
    {
     "name": "stdout",
     "output_type": "stream",
     "text": [
      "Maximum value: 70\n",
      "Minimum value: 10\n"
     ]
    }
   ],
   "source": [
    "#27.Develop a code that takes a tuple of integers as input. The function should return the maximum and\n",
    "#minimum values from the tuple using tuple unpacking.\n",
    "\n",
    "def find_max_min(input_tuple):\n",
    "   \n",
    "  \n",
    "    max_value, min_value = max(input_tuple), min(input_tuple)\n",
    "    \n",
    "\n",
    "    return max_value, min_value\n",
    "\n",
    "\n",
    "input_tuple = (10, 20, 30, 40, 50, 60, 70)\n",
    "max_val, min_val = find_max_min(input_tuple)\n",
    "\n",
    "print(f\"Maximum value: {max_val}\") \n",
    "print(f\"Minimum value: {min_val}\")  \n"
   ]
  },
  {
   "cell_type": "code",
   "execution_count": 44,
   "id": "695a1997-b4f0-45fe-93ad-459a2ab0eefb",
   "metadata": {},
   "outputs": [
    {
     "data": {
      "text/plain": [
       "({2, 3, 4, 5, 7, 8, 9}, {3, 5, 8}, {2, 4, 7, 9})"
      ]
     },
     "execution_count": 44,
     "metadata": {},
     "output_type": "execute_result"
    }
   ],
   "source": [
    "#28.Create a code that defines two sets of integers. Then, print the union, intersection, and difference of these\n",
    "#two sets\n",
    "\n",
    "set1 ={2,3,5,8,9}\n",
    "set2 ={8,5,7,3,4}\n",
    "\n",
    "set1|set2,set1&set2,set1^set2\n"
   ]
  },
  {
   "cell_type": "code",
   "execution_count": 64,
   "id": "e4011b70-5948-4c62-8b97-44e31c32b78c",
   "metadata": {},
   "outputs": [
    {
     "name": "stdin",
     "output_type": "stream",
     "text": [
      "Enter the elements of the tuple, separated by spaces:  1, 2, 3, 1, 2, 3\n",
      "Enter the element to count:  2\n"
     ]
    },
    {
     "name": "stdout",
     "output_type": "stream",
     "text": [
      "The element '2' occurs 2 times in the tuple.\n"
     ]
    }
   ],
   "source": [
    "#29.Write a code that takes a tuple and an element as input. The function should return the count of\n",
    "#occurrences of the given element in the tuple.\n",
    "\n",
    "\n",
    "\n",
    "user_input = input(\"Enter the elements of the tuple, separated by spaces: \")\n",
    "input_tuple = tuple(user_input)  # Convert input to a tuple\n",
    "element_to_count = input(\"Enter the element to count: \")\n",
    "\n",
    "count = count_occurrences(input_tuple, element_to_count)\n",
    "\n",
    "print(f\"The element '{element_to_count}' occurs {count} times in the tuple.\")"
   ]
  },
  {
   "cell_type": "code",
   "execution_count": 72,
   "id": "0720a56e-1cfb-4dff-9cf5-d18193a85169",
   "metadata": {},
   "outputs": [
    {
     "name": "stdin",
     "output_type": "stream",
     "text": [
      "Enter the first set of strings, separated by spaces:  coding, hiking, travelling\n",
      "Enter the second set of strings, separated by spaces:  coding, reading, hiding\n"
     ]
    },
    {
     "name": "stdout",
     "output_type": "stream",
     "text": [
      "Symmetric difference: {'travelling', 'hiking,', 'hiding', 'reading,'}\n"
     ]
    }
   ],
   "source": [
    "#30.Develop a code that prompts the user to input two sets of strings. Then, print the symmetric difference of\n",
    "#these two sets.\n",
    "\n",
    "def symmetric_difference():\n",
    "    # Prompt the user to input two sets of strings\n",
    "    set1_input = input(\"Enter the first set of strings, separated by spaces: \")\n",
    "    set2_input = input(\"Enter the second set of strings, separated by spaces: \")\n",
    "    \n",
    "    # Convert the input strings into sets\n",
    "    set1 = set(set1_input.split())\n",
    "    set2 = set(set2_input.split())\n",
    "    \n",
    "    # Calculate the symmetric difference\n",
    "    result = set1.symmetric_difference(set2)\n",
    "    \n",
    "    # Print the result\n",
    "    print(\"Symmetric difference:\", result)\n",
    "\n",
    "# Example usage:\n",
    "symmetric_difference()\n",
    "\n"
   ]
  },
  {
   "cell_type": "code",
   "execution_count": 75,
   "id": "32a742d3-c832-4913-832e-ac17db2a1fe6",
   "metadata": {},
   "outputs": [
    {
     "name": "stdin",
     "output_type": "stream",
     "text": [
      "Enter a list of words, separated by spaces:  apple apple cherry apple orange orange\n"
     ]
    },
    {
     "name": "stdout",
     "output_type": "stream",
     "text": [
      "Word frequencies: {'apple': 3, 'cherry': 1, 'orange': 2}\n"
     ]
    }
   ],
   "source": [
    "#31.Write a code that takes a list of words as input and returns a dictionary where the keys are unique words\n",
    "#and the values are the frequencies of those words in the input list.\n",
    "\n",
    "def word_frequencies():\n",
    "    \n",
    "    words_input = input(\"Enter a list of words, separated by spaces: \")\n",
    "    \n",
    "\n",
    "    words_list = words_input.split()\n",
    "    \n",
    "    \n",
    "    word_count = {}\n",
    "    \n",
    "    \n",
    "    for word in words_list:\n",
    "    \n",
    "        if word in word_count:\n",
    "            word_count[word] += 1\n",
    "        else:\n",
    "    \n",
    "            word_count[word] = 1\n",
    "    \n",
    "    \n",
    "    return word_count\n",
    "\n",
    "result = word_frequencies()\n",
    "print(\"Word frequencies:\", result)\n"
   ]
  },
  {
   "cell_type": "code",
   "execution_count": 76,
   "id": "8221187a-108e-4e82-a6f4-206f4c12e812",
   "metadata": {},
   "outputs": [
    {
     "name": "stdin",
     "output_type": "stream",
     "text": [
      "Enter the first dictionary (in the format: key1:value1, key2:value2,...):  orange:2, apple:15, banana:23\n",
      "Enter the second dictionary (in the format: key1:value1, key2:value2,...):  apple:8, orange:32, banana:4\n"
     ]
    },
    {
     "name": "stdout",
     "output_type": "stream",
     "text": [
      "Merged dictionary: {'orange': 2, ' apple': 15, ' banana': 27, 'apple': 8, ' orange': 32}\n"
     ]
    }
   ],
   "source": [
    "#32.Write a code that takes two dictionaries as input and merges them into a single dictionary. If there are\n",
    "#common keys, the values should be added together.\n",
    "\n",
    "def merge_dicts():\n",
    "    \n",
    "    dict1_input = input(\"Enter the first dictionary (in the format: key1:value1, key2:value2,...): \")\n",
    "    dict2_input = input(\"Enter the second dictionary (in the format: key1:value1, key2:value2,...): \")\n",
    "    \n",
    "    \n",
    "    dict1 = dict(item.split(\":\") for item in dict1_input.split(\",\"))\n",
    "    dict2 = dict(item.split(\":\") for item in dict2_input.split(\",\"))\n",
    "    \n",
    "    \n",
    "    dict1 = {key: int(value) for key, value in dict1.items()}\n",
    "    dict2 = {key: int(value) for key, value in dict2.items()}\n",
    "    \n",
    "    \n",
    "    merged_dict = dict1.copy()  \n",
    "    \n",
    "    for key, value in dict2.items():\n",
    "        if key in merged_dict:\n",
    "            merged_dict[key] += value \n",
    "        else:\n",
    "            merged_dict[key] = value  \n",
    "    \n",
    "    return merged_dict\n",
    "\n",
    "\n",
    "result = merge_dicts()\n",
    "print(\"Merged dictionary:\", result)\n"
   ]
  },
  {
   "cell_type": "code",
   "execution_count": null,
   "id": "ae420155-7810-471a-a9a4-3d23e90ae0e2",
   "metadata": {},
   "outputs": [],
   "source": [
    "#33.Write a code to access a value in a nested dictionary. The function should take the dictionary and a list of\n",
    "#keys as input, and return the corresponding value. If any of the keys do not exist in the dictionary, the\n",
    "#function should return None.\n",
    "\n"
   ]
  }
 ],
 "metadata": {
  "kernelspec": {
   "display_name": "Python 3 (ipykernel)",
   "language": "python",
   "name": "python3"
  },
  "language_info": {
   "codemirror_mode": {
    "name": "ipython",
    "version": 3
   },
   "file_extension": ".py",
   "mimetype": "text/x-python",
   "name": "python",
   "nbconvert_exporter": "python",
   "pygments_lexer": "ipython3",
   "version": "3.12.7"
  }
 },
 "nbformat": 4,
 "nbformat_minor": 5
}
